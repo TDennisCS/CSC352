{
 "cells": [
  {
   "cell_type": "code",
   "execution_count": 1,
   "metadata": {},
   "outputs": [],
   "source": [
    "import random\n",
    "import unittest\n",
    "\n"
   ]
  },
  {
   "cell_type": "code",
   "execution_count": 2,
   "metadata": {},
   "outputs": [],
   "source": [
    "class MulliganAgent: \n",
    "    def __init__(self):\n",
    "        self.deck_size = 10\n",
    "        self.land_count = 3\n",
    "        self.deck = self.CreateDeck(self.deck_size, self.land_count)\n",
    "        self.land_target = 0\n",
    "        self.hand_size = 7\n",
    "        self.mulligan_count = 0\n",
    "        self.hand = []\n",
    "        self.current_deck = self.deck\n",
    "\n",
    "    def CreateDeck(self,Deck_size, land_count): # creates a deck of lands (0) and non lands (1)\n",
    "        deck = []\n",
    "        for i in range(land_count): #lands\n",
    "            deck.append(0)\n",
    "        for i in range(Deck_size - land_count): #nonLands \n",
    "            deck.append(1)\n",
    "        return deck\n",
    "    \n",
    "    def Draw(self, mulligan_count, deck): # draws cards from the deck based on the number of mulligans. if 0 mulligans than 7 cards. likewise if 2 mulligans than 5 cards. \n",
    "        new_hand = []\n",
    "\n",
    "        new_hand_size = self.hand_size - mulligan_count # calculates the players hand at each mulligan.\n",
    "        self.Shuffle(deck)\n",
    "        for i in range(new_hand_size) : # draws cards from the deck array into the hand array\n",
    "            new_hand.append(deck[i]) # puts cards in the hand array\n",
    "        return new_hand\n",
    "\n",
    "    def LandCount(self,hand): # counts the lands in the hand drawn\n",
    "        counter = 0\n",
    "        for i in range(len(hand)): \n",
    "            if hand[i] == 0: \n",
    "                counter = counter + 1\n",
    "        return counter \n",
    "\n",
    "    def Shuffle(self, deck):  # shuffles the deck \n",
    "        temp_deck = deck\n",
    "        result = random.shuffle(temp_deck)\n",
    "        return result\n",
    "\n",
    "    def Mulligan(self, deck, hand): # reshuffles the deck and draws cards based on the mulligan count\n",
    "        self.Shuffle(deck)\n",
    "        self.mulligan_count = self.mulligan_count + 1\n",
    "        hand = self.Draw(self.mulligan_count,deck)\n",
    "        return hand\n",
    "    \n",
    "    def HandEnvironment(self, deck):\n",
    "        bad_hand_msg = \"Bad Hand :(\" # if the hand has the wrong number of lands its a bad hand\n",
    "        good_hand_msg = \"Good Hand :)\" # if the hand has the correct number of lands its a good hand\n",
    "        temp_hand = self.Draw(0,deck) # the hand that the agent is testing \n",
    "        flag = False # conditional to stop the loop\n",
    "        counter = 0\n",
    "        while(flag == False and counter < 4):\n",
    "            if self.LandCount(temp_hand) < 3: \n",
    "                counter = counter + 1\n",
    "                temp_hand = self.Mulligan(deck, temp_hand)\n",
    "                print(temp_hand) \n",
    "                print(bad_hand_msg)\n",
    "    \n",
    "            else:\n",
    "                print(temp_hand)\n",
    "                print(good_hand_msg)\n",
    "                flag = True\n",
    "                counter = 4\n",
    "\n",
    "\n",
    "\n",
    "        "
   ]
  },
  {
   "cell_type": "code",
   "execution_count": 3,
   "metadata": {},
   "outputs": [
    {
     "name": "stderr",
     "output_type": "stream",
     "text": [
      "test_CreateDeck (__main__.TestMulliganAgent) ... ok\n",
      "test_Draw (__main__.TestMulliganAgent) ... ok\n",
      "test_LandCount (__main__.TestMulliganAgent) ... ok\n",
      "\n",
      "----------------------------------------------------------------------\n",
      "Ran 3 tests in 0.005s\n",
      "\n",
      "OK\n"
     ]
    },
    {
     "data": {
      "text/plain": [
       "<unittest.main.TestProgram at 0x1a394efedc0>"
      ]
     },
     "execution_count": 3,
     "metadata": {},
     "output_type": "execute_result"
    }
   ],
   "source": [
    "# test suite to check behaviors \n",
    "class TestMulliganAgent(unittest.TestCase):\n",
    "\n",
    "    def test_CreateDeck(self):\n",
    "        agent = MulliganAgent() # creates agent object\n",
    "        deck = agent.CreateDeck(10,3) # function being tested\n",
    "        solution = [0,0,0,1,1,1,1,1,1,1] # the desired solution for CreateDeck(10,3)\n",
    "        self.assertEqual(deck, solution)\n",
    "\n",
    "    def test_Draw(self): \n",
    "        agent = MulliganAgent()\n",
    "        deck = agent.CreateDeck(10,3) # creates a deck of size 10 with 3 lands \n",
    "        mulligan_count = 0 # number of mulligans\n",
    " \n",
    "        hand = agent.Draw(mulligan_count,deck) # stores the output of draw\n",
    "        hand_limit = 7 #the maximum hand size\n",
    "        hand_size = hand_limit - mulligan_count # reduced hand size based on the number of mulligans\n",
    "        self.assertLessEqual(len(hand), hand_size)\n",
    "\n",
    "    def test_LandCount(self):\n",
    "        agent = MulliganAgent()\n",
    "        deck = agent.CreateDeck(10,3)\n",
    "        hand = agent.Draw(0,deck)\n",
    "        land_count = agent.LandCount(hand)\n",
    "        self.assertLessEqual(land_count, 3)\n",
    "\n",
    "   \n",
    "\n",
    "\n",
    "\n",
    "unittest.main(argv=[''], verbosity=2, exit=False)"
   ]
  },
  {
   "cell_type": "code",
   "execution_count": 4,
   "metadata": {},
   "outputs": [
    {
     "name": "stdout",
     "output_type": "stream",
     "text": [
      "[0, 1, 0, 1, 1, 1]\n",
      "Bad Hand :(\n",
      "[0, 0, 1, 1, 1]\n",
      "Bad Hand :(\n",
      "[1, 1, 1, 1]\n",
      "Bad Hand :(\n",
      "[0, 1, 1]\n",
      "Bad Hand :(\n"
     ]
    }
   ],
   "source": [
    "\n",
    "agent = MulliganAgent()\n",
    "deck = agent.CreateDeck(10,3)\n",
    "agent.HandEnvironment(deck)"
   ]
  }
 ],
 "metadata": {
  "kernelspec": {
   "display_name": "Python 3",
   "language": "python",
   "name": "python3"
  },
  "language_info": {
   "codemirror_mode": {
    "name": "ipython",
    "version": 3
   },
   "file_extension": ".py",
   "mimetype": "text/x-python",
   "name": "python",
   "nbconvert_exporter": "python",
   "pygments_lexer": "ipython3",
   "version": "3.9.17"
  },
  "orig_nbformat": 4
 },
 "nbformat": 4,
 "nbformat_minor": 2
}
